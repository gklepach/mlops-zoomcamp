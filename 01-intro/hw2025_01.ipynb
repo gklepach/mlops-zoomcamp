{
 "cells": [
  {
   "cell_type": "code",
   "execution_count": 167,
   "id": "b2bd82d7",
   "metadata": {},
   "outputs": [
    {
     "name": "stdout",
     "output_type": "stream",
     "text": [
      "Python 3.9.12\n",
      "Requirement already satisfied: pandas in /Users/kgi/.pyenv/versions/3.9.12/lib/python3.9/site-packages (2.2.3)\n",
      "Requirement already satisfied: seaborn in /Users/kgi/.pyenv/versions/3.9.12/lib/python3.9/site-packages (0.13.2)\n",
      "Requirement already satisfied: scikit-learn in /Users/kgi/.pyenv/versions/3.9.12/lib/python3.9/site-packages (1.6.1)\n",
      "Requirement already satisfied: pyarrow in /Users/kgi/.pyenv/versions/3.9.12/lib/python3.9/site-packages (20.0.0)\n",
      "Requirement already satisfied: fastparquet in /Users/kgi/.pyenv/versions/3.9.12/lib/python3.9/site-packages (2024.11.0)\n",
      "Requirement already satisfied: python-dateutil>=2.8.2 in /Users/kgi/.pyenv/versions/3.9.12/lib/python3.9/site-packages (from pandas) (2.9.0.post0)\n",
      "Requirement already satisfied: tzdata>=2022.7 in /Users/kgi/.pyenv/versions/3.9.12/lib/python3.9/site-packages (from pandas) (2025.2)\n",
      "Requirement already satisfied: pytz>=2020.1 in /Users/kgi/.pyenv/versions/3.9.12/lib/python3.9/site-packages (from pandas) (2025.2)\n",
      "Requirement already satisfied: numpy>=1.22.4 in /Users/kgi/.pyenv/versions/3.9.12/lib/python3.9/site-packages (from pandas) (2.0.2)\n",
      "Requirement already satisfied: matplotlib!=3.6.1,>=3.4 in /Users/kgi/.pyenv/versions/3.9.12/lib/python3.9/site-packages (from seaborn) (3.9.4)\n",
      "Requirement already satisfied: threadpoolctl>=3.1.0 in /Users/kgi/.pyenv/versions/3.9.12/lib/python3.9/site-packages (from scikit-learn) (3.6.0)\n",
      "Requirement already satisfied: joblib>=1.2.0 in /Users/kgi/.pyenv/versions/3.9.12/lib/python3.9/site-packages (from scikit-learn) (1.5.0)\n",
      "Requirement already satisfied: scipy>=1.6.0 in /Users/kgi/.pyenv/versions/3.9.12/lib/python3.9/site-packages (from scikit-learn) (1.13.1)\n",
      "Requirement already satisfied: packaging in /Users/kgi/.pyenv/versions/3.9.12/lib/python3.9/site-packages (from fastparquet) (25.0)\n",
      "Requirement already satisfied: fsspec in /Users/kgi/.pyenv/versions/3.9.12/lib/python3.9/site-packages (from fastparquet) (2025.3.2)\n",
      "Requirement already satisfied: cramjam>=2.3 in /Users/kgi/.pyenv/versions/3.9.12/lib/python3.9/site-packages (from fastparquet) (2.10.0)\n",
      "Requirement already satisfied: kiwisolver>=1.3.1 in /Users/kgi/.pyenv/versions/3.9.12/lib/python3.9/site-packages (from matplotlib!=3.6.1,>=3.4->seaborn) (1.4.7)\n",
      "Requirement already satisfied: contourpy>=1.0.1 in /Users/kgi/.pyenv/versions/3.9.12/lib/python3.9/site-packages (from matplotlib!=3.6.1,>=3.4->seaborn) (1.3.0)\n",
      "Requirement already satisfied: pyparsing>=2.3.1 in /Users/kgi/.pyenv/versions/3.9.12/lib/python3.9/site-packages (from matplotlib!=3.6.1,>=3.4->seaborn) (3.2.3)\n",
      "Requirement already satisfied: fonttools>=4.22.0 in /Users/kgi/.pyenv/versions/3.9.12/lib/python3.9/site-packages (from matplotlib!=3.6.1,>=3.4->seaborn) (4.58.0)\n",
      "Requirement already satisfied: pillow>=8 in /Users/kgi/.pyenv/versions/3.9.12/lib/python3.9/site-packages (from matplotlib!=3.6.1,>=3.4->seaborn) (11.2.1)\n",
      "Requirement already satisfied: importlib-resources>=3.2.0 in /Users/kgi/.pyenv/versions/3.9.12/lib/python3.9/site-packages (from matplotlib!=3.6.1,>=3.4->seaborn) (6.5.2)\n",
      "Requirement already satisfied: cycler>=0.10 in /Users/kgi/.pyenv/versions/3.9.12/lib/python3.9/site-packages (from matplotlib!=3.6.1,>=3.4->seaborn) (0.12.1)\n",
      "Requirement already satisfied: six>=1.5 in /Users/kgi/.pyenv/versions/3.9.12/lib/python3.9/site-packages (from python-dateutil>=2.8.2->pandas) (1.17.0)\n",
      "Requirement already satisfied: zipp>=3.1.0 in /Users/kgi/.pyenv/versions/3.9.12/lib/python3.9/site-packages (from importlib-resources>=3.2.0->matplotlib!=3.6.1,>=3.4->seaborn) (3.21.0)\n",
      "\u001b[33mWARNING: You are using pip version 22.0.4; however, version 25.1.1 is available.\n",
      "You should consider upgrading via the '/Users/kgi/.pyenv/versions/3.9.12/bin/python3.9 -m pip install --upgrade pip' command.\u001b[0m\u001b[33m\n",
      "\u001b[0m"
     ]
    }
   ],
   "source": [
    "!python -V\n",
    "!pip install pandas seaborn scikit-learn pyarrow fastparquet"
   ]
  },
  {
   "cell_type": "code",
   "execution_count": 168,
   "id": "41062d8a",
   "metadata": {},
   "outputs": [],
   "source": [
    "import pandas as pd\n",
    "import pickle\n",
    "import seaborn as sns\n",
    "import matplotlib.pyplot as plt\n",
    "import numpy as np\n",
    "from sklearn.feature_extraction import DictVectorizer\n",
    "from sklearn.linear_model import LinearRegression\n",
    "from sklearn.linear_model import Lasso\n",
    "from sklearn.linear_model import Ridge\n",
    "from sklearn.metrics import mean_squared_error\n",
    "from sklearn.metrics import root_mean_squared_error"
   ]
  },
  {
   "cell_type": "code",
   "execution_count": 169,
   "id": "2d767528",
   "metadata": {},
   "outputs": [
    {
     "name": "stdout",
     "output_type": "stream",
     "text": [
      "Jan: 19\n",
      "Feb: 19\n"
     ]
    }
   ],
   "source": [
    "df_jan = pd.read_parquet('./data/yellow_tripdata_2023-01.parquet')\n",
    "df_feb = pd.read_parquet('./data/yellow_tripdata_2023-02.parquet')\n",
    "print('Jan:', df_jan.shape[1])\n",
    "print('Feb:', df_feb.shape[1])"
   ]
  },
  {
   "cell_type": "code",
   "execution_count": 170,
   "id": "6f025a47",
   "metadata": {},
   "outputs": [
    {
     "name": "stdout",
     "output_type": "stream",
     "text": [
      "Standard deviation of trip duration (in minutes): 42.59\n"
     ]
    }
   ],
   "source": [
    "# Convert pickup and dropoff columns to datetime\n",
    "df_jan['tpep_pickup_datetime'] = pd.to_datetime(df_jan['tpep_pickup_datetime'])\n",
    "df_jan['tpep_dropoff_datetime'] = pd.to_datetime(df_jan['tpep_dropoff_datetime'])\n",
    "\n",
    "# Calculate trip duration in minutes\n",
    "df_jan['duration'] = (df_jan['tpep_dropoff_datetime'] - df_jan['tpep_pickup_datetime']).dt.total_seconds() / 60\n",
    "\n",
    "# Compute the standard deviation of the trip duration\n",
    "std_duration = df_jan['duration'].std()\n",
    "print('Standard deviation of trip duration (in minutes):', round(std_duration, 2))"
   ]
  },
  {
   "cell_type": "code",
   "execution_count": 171,
   "id": "bed5dc15",
   "metadata": {},
   "outputs": [
    {
     "name": "stdout",
     "output_type": "stream",
     "text": [
      "Fraction of records left: 0.981\n",
      "Percentage of records left: 98.12 %\n"
     ]
    }
   ],
   "source": [
    "# Convert pickup and dropoff columns to datetime\n",
    "df_jan['tpep_pickup_datetime'] = pd.to_datetime(df_jan['tpep_pickup_datetime'])\n",
    "df_jan['tpep_dropoff_datetime'] = pd.to_datetime(df_jan['tpep_dropoff_datetime'])\n",
    "\n",
    "# Calculate trip duration in minutes\n",
    "df_jan['duration'] = (df_jan['tpep_dropoff_datetime'] - df_jan['tpep_pickup_datetime']).dt.total_seconds() / 60\n",
    "\n",
    "# Keep only trips with duration between 1 and 60 minutes (inclusive)\n",
    "condition = (df_jan['duration'] >= 1) & (df_jan['duration'] <= 60)\n",
    "filtered_df = df_jan[condition]\n",
    "\n",
    "# Calculate the fraction of records left\n",
    "fraction_left = len(filtered_df) / len(df_jan)\n",
    "print('Fraction of records left:', round(fraction_left, 3))  # Rounded to 3 decimals for clarity\n",
    "\n",
    "# If you want the percentage:\n",
    "print('Percentage of records left:', round(fraction_left * 100, 2), '%')"
   ]
  },
  {
   "cell_type": "code",
   "execution_count": 172,
   "id": "e821c5dc",
   "metadata": {},
   "outputs": [
    {
     "name": "stdout",
     "output_type": "stream",
     "text": [
      "Feature matrix shape: (3009173, 515)\n",
      "Number of columns: 515\n"
     ]
    }
   ],
   "source": [
    "df_jan['tpep_pickup_datetime'] = pd.to_datetime(df_jan['tpep_pickup_datetime'])\n",
    "df_jan['tpep_dropoff_datetime'] = pd.to_datetime(df_jan['tpep_dropoff_datetime'])\n",
    "df_jan['duration'] = (df_jan['tpep_dropoff_datetime'] - df_jan['tpep_pickup_datetime']).dt.total_seconds() / 60\n",
    "df_jan = df_jan[(df_jan['duration'] >= 1) & (df_jan['duration'] <= 60)]\n",
    "\n",
    "# Cast location IDs to string (important for one-hot encoding!)\n",
    "df_jan['PULocationID'] = df_jan['PULocationID'].astype(str)\n",
    "df_jan['DOLocationID'] = df_jan['DOLocationID'].astype(str)\n",
    "\n",
    "# Create a list of dictionaries for DictVectorizer\n",
    "features = df_jan[['PULocationID', 'DOLocationID']].to_dict(orient='records')\n",
    "\n",
    "# One-hot encode\n",
    "dv = DictVectorizer()\n",
    "X = dv.fit_transform(features)\n",
    "\n",
    "# Print the dimensionality (number of columns)\n",
    "print('Feature matrix shape:', X.shape)\n",
    "print('Number of columns:', X.shape[1])\n"
   ]
  },
  {
   "cell_type": "code",
   "execution_count": 173,
   "id": "8e013caf",
   "metadata": {},
   "outputs": [
    {
     "name": "stdout",
     "output_type": "stream",
     "text": [
      "RMSE on train: 7.65\n"
     ]
    }
   ],
   "source": [
    "df_jan['tpep_pickup_datetime'] = pd.to_datetime(df_jan['tpep_pickup_datetime'])\n",
    "df_jan['tpep_dropoff_datetime'] = pd.to_datetime(df_jan['tpep_dropoff_datetime'])\n",
    "df_jan['duration'] = (df_jan['tpep_dropoff_datetime'] - df_jan['tpep_pickup_datetime']).dt.total_seconds() / 60\n",
    "df_jan = df_jan[(df_jan['duration'] >= 1) & (df_jan['duration'] <= 60)]\n",
    "\n",
    "# Prepare features for one-hot encoding\n",
    "df_jan['PULocationID'] = df_jan['PULocationID'].astype(str)\n",
    "df_jan['DOLocationID'] = df_jan['DOLocationID'].astype(str)\n",
    "features = df_jan[['PULocationID', 'DOLocationID']].to_dict(orient='records')\n",
    "\n",
    "# Vectorize\n",
    "dv = DictVectorizer()\n",
    "X_train = dv.fit_transform(features)\n",
    "y_train = df_jan['duration'].values\n",
    "\n",
    "# Train linear regression\n",
    "model = LinearRegression()\n",
    "model.fit(X_train, y_train)\n",
    "\n",
    "# Predict on train\n",
    "y_pred = model.predict(X_train)\n",
    "\n",
    "# Calculate RMSE\n",
    "rmse_train = np.sqrt(mean_squared_error(y_train, y_pred))\n",
    "print('RMSE on train:', round(rmse_train, 2))"
   ]
  },
  {
   "cell_type": "code",
   "execution_count": 174,
   "id": "e672de60",
   "metadata": {},
   "outputs": [
    {
     "name": "stdout",
     "output_type": "stream",
     "text": [
      "RMSE on validation: 7.81\n"
     ]
    }
   ],
   "source": [
    "# Load validation data\n",
    "df_feb = pd.read_parquet('./data/yellow_tripdata_2023-02.parquet')\n",
    "df_feb['tpep_pickup_datetime'] = pd.to_datetime(df_feb['tpep_pickup_datetime'])\n",
    "df_feb['tpep_dropoff_datetime'] = pd.to_datetime(df_feb['tpep_dropoff_datetime'])\n",
    "df_feb['duration'] = (df_feb['tpep_dropoff_datetime'] - df_feb['tpep_pickup_datetime']).dt.total_seconds() / 60\n",
    "\n",
    "# Filter to durations between 1 and 60 minutes\n",
    "df_feb = df_feb[(df_feb['duration'] >= 1) & (df_feb['duration'] <= 60)]\n",
    "\n",
    "# Prepare features (convert to string for DictVectorizer)\n",
    "df_feb['PULocationID'] = df_feb['PULocationID'].astype(str)\n",
    "df_feb['DOLocationID'] = df_feb['DOLocationID'].astype(str)\n",
    "features_val = df_feb[['PULocationID', 'DOLocationID']].to_dict(orient='records')\n",
    "\n",
    "# Transform features using the DictVectorizer from the training step\n",
    "X_val = dv.transform(features_val)\n",
    "y_val = df_feb['duration'].values\n",
    "\n",
    "# Predict and calculate RMSE\n",
    "y_pred_val = model.predict(X_val)\n",
    "rmse_val = np.sqrt(mean_squared_error(y_val, y_pred_val))\n",
    "print('RMSE on validation:', round(rmse_val, 2))"
   ]
  }
 ],
 "metadata": {
  "kernelspec": {
   "display_name": "Python 3",
   "language": "python",
   "name": "python3"
  },
  "language_info": {
   "codemirror_mode": {
    "name": "ipython",
    "version": 3
   },
   "file_extension": ".py",
   "mimetype": "text/x-python",
   "name": "python",
   "nbconvert_exporter": "python",
   "pygments_lexer": "ipython3",
   "version": "3.9.12"
  }
 },
 "nbformat": 4,
 "nbformat_minor": 5
}
